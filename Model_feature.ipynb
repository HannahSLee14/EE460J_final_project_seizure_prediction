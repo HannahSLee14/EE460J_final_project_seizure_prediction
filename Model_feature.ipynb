{
 "cells": [
  {
   "cell_type": "code",
   "execution_count": 156,
   "metadata": {},
   "outputs": [],
   "source": [
    "import matplotlib.pyplot as plt\n",
    "import numpy as np\n",
    "import json\n",
    "import os\n",
    "from scipy.io import loadmat\n",
    "from pandas import DataFrame\n",
    "import scipy.signal as spsig\n",
    "from sklearn import preprocessing\n",
    "import pandas as pd\n",
    "import csv\n",
    "from tqdm import tqdm\n",
    "from scipy.stats import zscore\n",
    "import eeglib\n",
    "import tsfeatures as tf\n",
    "from statsmodels.tsa.stattools import acf, pacf\n",
    "import statsmodels.api as sm\n",
    "from statsmodels.tsa.ar_model import AutoReg, ar_select_order"
   ]
  },
  {
   "cell_type": "markdown",
   "metadata": {},
   "source": [
    "## Preproccess data"
   ]
  },
  {
   "cell_type": "markdown",
   "metadata": {},
   "source": [
    "### Train"
   ]
  },
  {
   "cell_type": "code",
   "execution_count": 3,
   "metadata": {},
   "outputs": [],
   "source": [
    "def proccess_train_data(pat):\n",
    "    read_dir = 'data/Pat'+str(pat)+'Train'\n",
    "    filenames = sorted(os.listdir(read_dir))\n",
    "    train_filenames = []\n",
    "    for filename in filenames:\n",
    "        train_filenames.append(filename)\n",
    "    n = len(train_filenames)\n",
    "    image = loadmat(read_dir + '/' + train_filenames[0], squeeze_me=True)\n",
    "    X = np.zeros(((n,) + image['data'].shape), dtype='float32')\n",
    "    y = np.zeros(n, dtype='int8')\n",
    "\n",
    "    filename_to_idx = {}\n",
    "    for i, filename in enumerate(train_filenames):\n",
    "        data= loadmat(read_dir + '/' + filename, squeeze_me=True)\n",
    "        X[i] = zscore(data['data'])\n",
    "        y[i] = 1 if filename.endswith('_1.mat') else 0\n",
    "        filename_to_idx['Pat'+str(pat) + '/' + filename] = i\n",
    "    \n",
    "    return X, y"
   ]
  },
  {
   "cell_type": "code",
   "execution_count": 42,
   "metadata": {},
   "outputs": [
    {
     "name": "stdout",
     "output_type": "stream",
     "text": [
      "(826, 240000, 16)\n",
      "(826,)\n"
     ]
    },
    {
     "data": {
      "text/plain": [
       "{0: 570, 1: 256}"
      ]
     },
     "execution_count": 42,
     "metadata": {},
     "output_type": "execute_result"
    }
   ],
   "source": [
    "X, y = proccess_train_data(1)\n",
    "print(X.shape)\n",
    "print(y.shape)\n",
    "unique, counts = np.unique(y, return_counts=True)\n",
    "dict(zip(unique, counts))"
   ]
  },
  {
   "cell_type": "markdown",
   "metadata": {},
   "source": [
    "### Test"
   ]
  },
  {
   "cell_type": "code",
   "execution_count": 20,
   "metadata": {},
   "outputs": [],
   "source": [
    "def proccess_test_data(pat):\n",
    "    test_csv = pd.read_csv('data/contest_test_data_labels_public.csv')\n",
    "    test_csv = test_csv[test_csv['usage'] == 'Public']\n",
    "    test_csv = test_csv.drop(['usage'], axis = 1)\n",
    "    test_labels = test_csv['class']\n",
    "\n",
    "    pats = [1,2,3]\n",
    "    for p in pats:\n",
    "        if p != pat:\n",
    "            test_csv = test_csv[test_csv[\"image\"].str.contains('Pat'+str(p)) == False]\n",
    "\n",
    "            \n",
    "    test_n = test_csv.shape[0]\n",
    "    read_dir = 'data/Pat'+str(pat)+'Test'\n",
    "    x_test = np.zeros(((test_n,) + (240000, 16)), dtype='float32')\n",
    "    y_test = np.zeros(test_n, dtype='int8')\n",
    "    filename_to_idx_test = {}\n",
    "    idx = 0\n",
    "    for index, row in test_csv.iterrows():\n",
    "        datum = loadmat(read_dir + '/' + row['image'], squeeze_me=True)\n",
    "        x_test[idx] = datum['data']\n",
    "        y_test[idx] = row['class']\n",
    "        filename_to_idx_test['Pat'+ str(pat) + '/' + row['image']] = index\n",
    "        idx += 1\n",
    "    \n",
    "    return x_test, y_test"
   ]
  },
  {
   "cell_type": "code",
   "execution_count": 185,
   "metadata": {},
   "outputs": [
    {
     "name": "stdout",
     "output_type": "stream",
     "text": [
      "(61, 240000, 16)\n",
      "(61,)\n"
     ]
    },
    {
     "data": {
      "text/plain": [
       "{0: 45, 1: 16}"
      ]
     },
     "execution_count": 185,
     "metadata": {},
     "output_type": "execute_result"
    }
   ],
   "source": [
    "test_X, test_y = proccess_test_data(1)\n",
    "print(test_X.shape)\n",
    "print(test_y.shape)\n",
    "unique, counts = np.unique(test_y, return_counts=True)\n",
    "dict(zip(unique, counts))"
   ]
  },
  {
   "cell_type": "markdown",
   "metadata": {},
   "source": [
    "## Feature Extraction"
   ]
  },
  {
   "cell_type": "markdown",
   "metadata": {},
   "source": [
    "### Feature graphs"
   ]
  },
  {
   "cell_type": "code",
   "execution_count": 172,
   "metadata": {},
   "outputs": [],
   "source": [
    "bands={'delta': (0.5, 4), 'theta': (4, 8), 'alpha': (8, 12), 'beta': (12, 30), 'low-gamma': (30,47), 'hig-gamma':(53,120)}\n",
    "\n",
    "eeg_data = eeglib.eeg.EEG(240000, 400, 16)\n",
    "eeg_data.set(X[0])\n",
    "b_pwr = eeg_data.bandPower(bands=bands)\n",
    "data_full = np.zeros((16,6), dtype='float32')\n",
    "idx = 0\n",
    "for i in b_pwr:\n",
    "    data_full[idx] = list(i.values())\n",
    "    idx += 1\n",
    "\n",
    "data_full = data_full.astype(float)\n",
    "data = preprocessing.scale(data_full, axis=1,with_std=True)"
   ]
  },
  {
   "cell_type": "code",
   "execution_count": 173,
   "metadata": {},
   "outputs": [
    {
     "data": {
      "image/png": "[encoded data removed]",
      "text/plain": [
       "<Figure size 432x288 with 1 Axes>"
      ]
     },
     "metadata": {
      "needs_background": "light"
     },
     "output_type": "display_data"
    }
   ],
   "source": [
    "sm.graphics.tsa.plot_acf(data.T[0], lags=13)\n",
    "plt.show()"
   ]
  },
  {
   "cell_type": "code",
   "execution_count": 179,
   "metadata": {},
   "outputs": [
    {
     "name": "stdout",
     "output_type": "stream",
     "text": [
      "{'x_acf1': 0.39606803503504345, 'x_acf10': 0.48782665230560424, 'diff1_acf1': -0.2963474684036706, 'diff1_acf10': 0.13502337290733743, 'diff2_acf1': -0.5823523991345141, 'diff2_acf10': 0.38911081601561276}\n",
      "0.39606803503504356\n",
      "3.5752196629319677\n",
      "0.16735970990505397\n"
     ]
    },
    {
     "data": {
      "text/plain": [
       "3.5752196629319677"
      ]
     },
     "execution_count": 179,
     "metadata": {},
     "output_type": "execute_result"
    }
   ],
   "source": [
    "for i in data.T:\n",
    "    ar = acf(i, qstat=True)\n",
    "    tsf_acf = tf.acf_features(i)\n",
    "\n",
    "print(tsf_acf)\n",
    "for i in ar:\n",
    "    print(i[1])\n"
   ]
  },
  {
   "cell_type": "markdown",
   "metadata": {},
   "source": [
    "### Extraction Method"
   ]
  },
  {
   "cell_type": "code",
   "execution_count": 181,
   "metadata": {},
   "outputs": [],
   "source": [
    "def feature_extraction_csv(pat,type,X,y):\n",
    "    outfile = 'pat_'+str(pat)+'_feature_bands_'+type+'.csv'\n",
    "    mydata = []\n",
    "\n",
    "    # band (0.1 - 4 ; 4- 8 ; 8 - 15 ; 15 - 30 ; 30 - 90 ; 90 - 170 Hz\n",
    "    bands={'delta': (0.5, 4), 'theta': (4, 8), 'alpha': (8, 12), 'beta': (12, 30), 'low-gamma': (30,47), 'hig-gamma':(53,120)}\n",
    "    for idx, x in tqdm(enumerate(X)):\n",
    "        eeg_data = eeglib.eeg.EEG(240000, 400, 16)\n",
    "        eeg_data.set(x)\n",
    "        b_pwr = eeg_data.bandPower(bands=bands)\n",
    "        data_full = np.zeros((16,6), dtype='float32')\n",
    "        ind = 0\n",
    "        for i in b_pwr:\n",
    "            data_full[ind] = list(i.values())\n",
    "            ind += 1\n",
    "\n",
    "        output = []\n",
    "        featureList = []\n",
    "        featureList.append('Label')\n",
    "        output.append(y[idx])\n",
    "        featureList.append('Pat')\n",
    "        output.append(pat)\n",
    "        data_full = data_full.astype(float)\n",
    "        data = preprocessing.scale(data_full, axis=1,with_std=True)\n",
    "\n",
    "        ### FEATURE 1 - CORRELATION COEF (count - 120)\n",
    "        h=np.corrcoef(data)\n",
    "        h=np.nan_to_num(h)\n",
    "        ind = np.triu_indices(16, 1)\n",
    "        htri = h[ind]\n",
    "        for ii in range(np.size(htri)):\n",
    "                featureList.append('coef%i'%(ii))\n",
    "                output.append(htri[ii])\n",
    "\n",
    "        ### FEATURE 2 - AR 1 and sum of 10 coef (count - 6 (1 per band))\n",
    "        for band, i in enumerate(data.T):\n",
    "            tsf_acf = tf.acf_features(i)\n",
    "            featureList.append('AR%i'%(band))\n",
    "            output.append(tsf_acf['x_acf1'])\n",
    "            featureList.append('AR_10%i'%(band))\n",
    "            output.append(tsf_acf['x_acf10'])\n",
    "\n",
    "        \n",
    "        ### FEATURE 3 - AR LB q (count - 6 (1 per band))\n",
    "        for band, i in enumerate(data.T):\n",
    "            ar = acf(i, qstat=True)\n",
    "            featureList.append('AR_q%i'%(band))\n",
    "            output.append(ar[1][1])\n",
    "\n",
    "        mydata.append(pd.DataFrame({'Features':output},index=featureList).T)\n",
    "\n",
    "    trainSample = pd.concat(mydata,ignore_index=True)\n",
    "    trainSample.to_csv(outfile)"
   ]
  },
  {
   "cell_type": "code",
   "execution_count": 186,
   "metadata": {},
   "outputs": [
    {
     "name": "stderr",
     "output_type": "stream",
     "text": [
      "61it [00:20,  3.01it/s]\n"
     ]
    }
   ],
   "source": [
    "feature_extraction_csv(1,'train', X, y)\n",
    "feature_extraction_csv(1,'test', test_X, test_y)"
   ]
  },
  {
   "cell_type": "markdown",
   "metadata": {},
   "source": [
    "### Feature cleaning"
   ]
  },
  {
   "cell_type": "code",
   "execution_count": 187,
   "metadata": {},
   "outputs": [],
   "source": [
    "features_train = pd.read_csv('pat_1_feature_bands_train.csv')\n",
    "features_test = pd.read_csv('pat_1_feature_bands_test.csv')"
   ]
  },
  {
   "cell_type": "code",
   "execution_count": 188,
   "metadata": {},
   "outputs": [
    {
     "name": "stdout",
     "output_type": "stream",
     "text": [
      "(826, 141)\n",
      "(61, 141)\n",
      "Number of features: 138\n"
     ]
    }
   ],
   "source": [
    "print(features_train.shape)\n",
    "print(features_test.shape)\n",
    "print(\"Number of features:\",features_test.shape[1]-3)"
   ]
  },
  {
   "cell_type": "code",
   "execution_count": 189,
   "metadata": {},
   "outputs": [],
   "source": [
    "features_train.dropna(thresh=features_train.shape[1]-3, inplace=True)\n",
    "features_train.replace([np.inf, -np.inf], np.nan, inplace=True)\n",
    "features_train.fillna(0, inplace=True)\n",
    "\n",
    "features_test.dropna(thresh=features_test.shape[1]-3, inplace=True)\n",
    "features_test.replace([np.inf, -np.inf], np.nan, inplace=True)\n",
    "features_test.fillna(0, inplace=True)"
   ]
  },
  {
   "cell_type": "code",
   "execution_count": 190,
   "metadata": {},
   "outputs": [],
   "source": [
    "label_train = features_train.Label.values\n",
    "label_test = features_test.Label.values\n",
    "x_train = features_train.drop(['Label', 'Pat', 'Unnamed: 0'], axis=1)\n",
    "x_test= features_test.drop(['Label', 'Pat', 'Unnamed: 0'], axis=1)"
   ]
  },
  {
   "cell_type": "markdown",
   "metadata": {},
   "source": [
    "## Model"
   ]
  },
  {
   "cell_type": "code",
   "execution_count": 191,
   "metadata": {},
   "outputs": [],
   "source": [
    "from sklearn.ensemble import ExtraTreesClassifier\n",
    "import xgboost as xgb\n",
    "from sklearn import metrics\n",
    "from sklearn.model_selection import GridSearchCV, RandomizedSearchCV\n",
    "from sklearn.neighbors import KNeighborsClassifier\n"
   ]
  },
  {
   "cell_type": "markdown",
   "metadata": {},
   "source": [
    "### XGB"
   ]
  },
  {
   "cell_type": "code",
   "execution_count": 209,
   "metadata": {},
   "outputs": [
    {
     "name": "stdout",
     "output_type": "stream",
     "text": [
      "AUC: 0.4486111111111111\n"
     ]
    }
   ],
   "source": [
    "params = {\n",
    "        \"objective\": \"binary:logistic\",\n",
    "        \"booster\" : \"gbtree\",\n",
    "        \"eval_metric\": \"auc\",\n",
    "        \"eta\": 0.01,\n",
    "        \"max_depth\": 5,\n",
    "        \"subsample\": 0.5,\n",
    "        \"colsample_bytree\": 0.5,\n",
    "        \"num_parallel_tree\": 2,\n",
    "    }\n",
    "\n",
    "# params = {\n",
    "#     'objective':\"binary:logistic\", \n",
    "#     'booster'             : \"gbtree\",\n",
    "#     'eval_metric'         : \"auc\",\n",
    "#     'eta'                 : 0.3,\n",
    "#     'max_depth'           : 3,\n",
    "#     'subsample'           : 0.5,\n",
    "#     'colsample_bytree'    : 1,\n",
    "#     'num_parallel_tree'   : 2\n",
    "# }\n",
    "\n",
    "dtrain=xgb.DMatrix(x_train,label_train)\n",
    "model=xgb.train(params,dtrain,num_boost_round=500,verbose_eval=20)\n",
    "\n",
    "test=xgb.DMatrix(x_test)\n",
    "y_pred = model.predict(test)\n",
    "auc = metrics.roc_auc_score(label_test, y_pred)\n",
    "print (\"AUC: \" + str(auc)) "
   ]
  },
  {
   "cell_type": "code",
   "execution_count": 210,
   "metadata": {},
   "outputs": [
    {
     "data": {
      "text/plain": [
       "<AxesSubplot:>"
      ]
     },
     "execution_count": 210,
     "metadata": {},
     "output_type": "execute_result"
    },
    {
     "data": {
      "image/png": "[encoded data removed]",
      "text/plain": [
       "<Figure size 1440x720 with 1 Axes>"
      ]
     },
     "metadata": {
      "needs_background": "light"
     },
     "output_type": "display_data"
    }
   ],
   "source": [
    "feature_important = model.get_score(importance_type='weight')\n",
    "keys = list(feature_important.keys())\n",
    "values = list(feature_important.values())\n",
    "\n",
    "data = pd.DataFrame(data=values, index=keys, columns=[\"score\"]).sort_values(by = \"score\", ascending=False)\n",
    "data.nlargest(40, columns=\"score\").plot(kind='barh', figsize = (20,10)) ## plot top 40 features"
   ]
  },
  {
   "cell_type": "markdown",
   "metadata": {},
   "source": [
    "### ExtraTree"
   ]
  },
  {
   "cell_type": "code",
   "execution_count": 194,
   "metadata": {},
   "outputs": [
    {
     "name": "stdout",
     "output_type": "stream",
     "text": [
      "AUC: 0.5930555555555554\n"
     ]
    }
   ],
   "source": [
    "clf = ExtraTreesClassifier(n_estimators=4000, random_state=0, max_depth=11, n_jobs=2, criterion='entropy')\n",
    "clf.fit(x_train,label_train)\n",
    "y_pred = clf.predict_proba(x_test)\n",
    "\n",
    "auc = metrics.roc_auc_score(label_test, y_pred[:,1])\n",
    "print (\"AUC: \" + str(auc))"
   ]
  },
  {
   "cell_type": "markdown",
   "metadata": {},
   "source": [
    "0.5736111111111111"
   ]
  },
  {
   "cell_type": "markdown",
   "metadata": {},
   "source": [
    "### KNN"
   ]
  },
  {
   "cell_type": "code",
   "execution_count": 195,
   "metadata": {},
   "outputs": [
    {
     "name": "stdout",
     "output_type": "stream",
     "text": [
      "AUC: 0.6569444444444444\n"
     ]
    }
   ],
   "source": [
    "knn = KNeighborsClassifier(n_neighbors=40, weights='distance',metric='manhattan', n_jobs=-1)\n",
    "knn.fit(x_train,label_train)\n",
    "y_pred = knn.predict_proba(x_test)\n",
    "\n",
    "auc = metrics.roc_auc_score(label_test, y_pred[:,1])\n",
    "print (\"AUC: \" + str(auc))\n"
   ]
  },
  {
   "cell_type": "markdown",
   "metadata": {},
   "source": [
    "0.6041666666666667"
   ]
  }
 ],
 "metadata": {
  "interpreter": {
   "hash": "949777d72b0d2535278d3dc13498b2535136f6dfe0678499012e853ee9abcab1"
  },
  "kernelspec": {
   "display_name": "Python 3.8.1 64-bit",
   "language": "python",
   "name": "python3"
  },
  "language_info": {
   "codemirror_mode": {
    "name": "ipython",
    "version": 3
   },
   "file_extension": ".py",
   "mimetype": "text/x-python",
   "name": "python",
   "nbconvert_exporter": "python",
   "pygments_lexer": "ipython3",
   "version": "3.8.1"
  },
  "orig_nbformat": 4
 },
 "nbformat": 4,
 "nbformat_minor": 2
}
