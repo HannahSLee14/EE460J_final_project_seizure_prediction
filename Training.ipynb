{
 "cells": [
  {
   "cell_type": "code",
   "execution_count": 1,
   "metadata": {},
   "outputs": [],
   "source": [
    "import matplotlib.pyplot as plt\n",
    "import numpy as np\n",
    "import json\n",
    "import os\n",
    "from scipy.io import loadmat\n",
    "from pandas import DataFrame\n",
    "import scipy.signal as spsig\n",
    "from sklearn import preprocessing\n",
    "import pandas as pd\n",
    "import csv\n",
    "from tqdm import tqdm\n",
    "from scipy.stats import zscore, iqr\n",
    "import eeglib\n",
    "import tsfeatures as tf\n",
    "from statsmodels.tsa.stattools import acf, pacf\n",
    "import statsmodels.api as sm\n",
    "from statsmodels.tsa.ar_model import AutoReg, ar_select_order"
   ]
  },
  {
   "cell_type": "markdown",
   "metadata": {},
   "source": [
    "## Preproccess data"
   ]
  },
  {
   "cell_type": "markdown",
   "metadata": {},
   "source": [
    "### Train"
   ]
  },
  {
   "cell_type": "code",
   "execution_count": 2,
   "metadata": {},
   "outputs": [],
   "source": [
    "def proccess_train_data(pat):\n",
    "    read_dir = '/Volumes/Udai_Mac_2022/Data_storage/Pat'+str(pat)+'Train' \n",
    "    filenames = sorted(os.listdir(read_dir))\n",
    "    train_filenames = []\n",
    "    for filename in filenames:\n",
    "        train_filenames.append(filename)\n",
    "    n = len(train_filenames)\n",
    "    image = loadmat(read_dir + '/' + train_filenames[0], squeeze_me=True)\n",
    "    X = np.zeros(((n,) + image['data'].shape), dtype='float32')\n",
    "    y = np.zeros(n, dtype='int8')\n",
    "\n",
    "    filename_to_idx = {}\n",
    "    for i, filename in enumerate(train_filenames):\n",
    "        try:\n",
    "            data= loadmat(read_dir + '/' + filename, squeeze_me=True)\n",
    "        except:\n",
    "            continue\n",
    "        X[i] = zscore(data['data'])\n",
    "        y[i] = 1 if filename.endswith('_1.mat') else 0\n",
    "        filename_to_idx['Pat'+str(pat) + '/' + filename] = i\n",
    "    \n",
    "    return X, y"
   ]
  },
  {
   "cell_type": "code",
   "execution_count": 3,
   "metadata": {},
   "outputs": [
    {
     "name": "stdout",
     "output_type": "stream",
     "text": [
      "(824, 240000, 16)\n",
      "(824,)\n"
     ]
    },
    {
     "data": {
      "text/plain": [
       "{0: 569, 1: 255}"
      ]
     },
     "execution_count": 3,
     "metadata": {},
     "output_type": "execute_result"
    }
   ],
   "source": [
    "#X_1, y_1 = proccess_train_data(1)\n",
    "X, y = proccess_train_data(1)\n",
    "print(X.shape)\n",
    "print(y.shape)\n",
    "unique, counts = np.unique(y, return_counts=True)\n",
    "dict(zip(unique, counts))"
   ]
  },
  {
   "cell_type": "markdown",
   "metadata": {},
   "source": [
    "### Test"
   ]
  },
  {
   "cell_type": "code",
   "execution_count": 4,
   "metadata": {},
   "outputs": [],
   "source": [
    "def proccess_test_data(pat):\n",
    "    test_csv = pd.read_csv('data/contest_test_data_labels_public.csv')\n",
    "    test_csv = test_csv[test_csv['usage'] == 'Public']\n",
    "    test_csv = test_csv.drop(['usage'], axis = 1)\n",
    "    test_labels = test_csv['class']\n",
    "\n",
    "    pats = [1,2,3]\n",
    "    for p in pats:\n",
    "        if p != pat:\n",
    "            test_csv = test_csv[test_csv[\"image\"].str.contains('Pat'+str(p)) == False]\n",
    "\n",
    "            \n",
    "    test_n = test_csv.shape[0]\n",
    "    read_dir = '/Volumes/Udai_Mac_2022/Data_storage/Pat'+str(pat)+'Test' \n",
    "    x_test = np.zeros(((test_n,) + (240000, 16)), dtype='float32')\n",
    "    y_test = np.zeros(test_n, dtype='int8')\n",
    "    filename_to_idx_test = {}\n",
    "    idx = 0\n",
    "    for index, row in test_csv.iterrows():\n",
    "        datum = loadmat(read_dir + '/' + row['image'], squeeze_me=True)\n",
    "        x_test[idx] = datum['data']\n",
    "        y_test[idx] = row['class']\n",
    "        filename_to_idx_test['Pat'+ str(pat) + '/' + row['image']] = index\n",
    "        idx += 1\n",
    "    \n",
    "    return x_test, y_test"
   ]
  },
  {
   "cell_type": "code",
   "execution_count": 5,
   "metadata": {},
   "outputs": [
    {
     "name": "stdout",
     "output_type": "stream",
     "text": [
      "(61, 240000, 16)\n",
      "(61,)\n"
     ]
    },
    {
     "data": {
      "text/plain": [
       "{0: 45, 1: 16}"
      ]
     },
     "execution_count": 5,
     "metadata": {},
     "output_type": "execute_result"
    }
   ],
   "source": [
    "#test_X_1, test_y_1 = proccess_test_data(1)\n",
    "test_X, test_y = proccess_test_data(1)\n",
    "print(test_X.shape)\n",
    "print(test_y.shape)\n",
    "unique, counts = np.unique(test_y, return_counts=True)\n",
    "dict(zip(unique, counts))"
   ]
  },
  {
   "cell_type": "markdown",
   "metadata": {},
   "source": [
    "## Feature Extraction"
   ]
  },
  {
   "cell_type": "markdown",
   "metadata": {},
   "source": [
    "### Feature graphs"
   ]
  },
  {
   "cell_type": "code",
   "execution_count": 7,
   "metadata": {},
   "outputs": [],
   "source": [
    "bands={'delta': (0.5, 4), 'theta': (4, 8), 'alpha': (8, 12), 'beta': (12, 30), 'low-gamma': (30,47), 'hig-gamma':(53,120)}\n",
    "\n",
    "eeg_data = eeglib.eeg.EEG(240000, 400, 16)\n",
    "eeg_data.set(X[0])\n",
    "b_pwr = eeg_data.bandPower(bands=bands)\n",
    "data_full = np.zeros((16,6), dtype='float32')\n",
    "idx = 0\n",
    "for i in b_pwr:\n",
    "    data_full[idx] = list(i.values())\n",
    "    idx += 1\n",
    "\n",
    "data_full = data_full.astype(float)\n",
    "data = preprocessing.scale(data_full, axis=1,with_std=True)"
   ]
  },
  {
   "cell_type": "code",
   "execution_count": 9,
   "metadata": {},
   "outputs": [
    {
     "data": {
      "image/png": "[encoded data removed]",
      "text/plain": [
       "<Figure size 432x288 with 1 Axes>"
      ]
     },
     "metadata": {
      "needs_background": "light"
     },
     "output_type": "display_data"
    }
   ],
   "source": [
    "sm.graphics.tsa.plot_acf(data.T[0], lags=13)\n",
    "plt.show()"
   ]
  },
  {
   "cell_type": "code",
   "execution_count": 704,
   "metadata": {},
   "outputs": [
    {
     "name": "stdout",
     "output_type": "stream",
     "text": [
      "[-1.17912996  0.1348176  -0.35326257 -1.30785359 -0.11783012  2.12992504\n",
      "  0.55420512 -3.1194965 ]\n",
      "{'x_acf1': 0.39606803503504345, 'x_acf10': 0.48782665230560424, 'diff1_acf1': -0.2963474684036706, 'diff1_acf10': 0.13502337290733743, 'diff2_acf1': -0.5823523991345141, 'diff2_acf10': 0.38911081601561276}\n",
      "       0           1          2          3       4          5          6\n",
      "0               coef    std err          z   P>|z|     [0.025     0.975]\n",
      "1  const     -1.1791      1.591     -0.741   0.459     -4.297      1.939\n",
      "2   y.L1      0.1348      0.506      0.266   0.790     -0.857      1.127\n",
      "3   y.L2     -0.3533      0.244     -1.446   0.148     -0.832      0.126\n",
      "4   y.L3     -1.3079      1.490     -0.878   0.380     -4.227      1.612\n",
      "5   y.L4     -0.1178      0.998     -0.118   0.906     -2.074      1.838\n",
      "6   y.L5      2.1299      1.449      1.470   0.142     -0.710      4.970\n",
      "7   y.L6      0.5542      0.542      1.023   0.306     -0.508      1.616\n",
      "8   y.L7     -3.1195      3.012     -1.036   0.300     -9.023      2.784\n"
     ]
    }
   ],
   "source": [
    "for i in data.T:\n",
    "    tsf_acf = tf.acf_features(i)\n",
    "    model = AutoReg(i, lags=7)\n",
    "    model_fit = model.fit(cov_type=\"HC0\")\n",
    "    coef = model_fit.params\n",
    "    \n",
    "\n",
    "print(coef)\n",
    "print(tsf_acf)\n",
    "LRresult = (model_fit.summary().tables[1])\n",
    "sum = pd.DataFrame(LRresult)\n",
    "print(sum) # coef = [1][2] error [2][2]"
   ]
  },
  {
   "cell_type": "markdown",
   "metadata": {},
   "source": [
    "### Extraction Method"
   ]
  },
  {
   "cell_type": "code",
   "execution_count": 3,
   "metadata": {},
   "outputs": [],
   "source": [
    "def feature_extraction_csv(pat,type,X,y):\n",
    "    outfile = 'pat_'+str(pat)+'_feature_bands_'+type+'.csv'\n",
    "    mydata = []\n",
    "\n",
    "    # band (0.1 - 4 ; 4- 8 ; 8 - 15 ; 15 - 30 ; 30 - 90 ; 90 - 170 Hz\n",
    "    bands={'delta': (0.5, 4), 'theta': (4, 8), 'alpha': (8, 12), 'beta': (12, 30), 'low-gamma': (30,47), 'hig-gamma':(53,120)}\n",
    "    for idx, x in tqdm(enumerate(X)):\n",
    "        data_raw = x.T\n",
    "        data_raw = data_raw.astype(float)\n",
    "        data_raw = preprocessing.scale(data_raw, axis=1,with_std=True)\n",
    "\n",
    "\n",
    "        eeg_data = eeglib.eeg.EEG(240000, 400, 16)\n",
    "        eeg_data.set(x)\n",
    "        b_pwr = eeg_data.bandPower(bands=bands)\n",
    "        data_full = np.zeros((16,6), dtype='float32')\n",
    "        ind = 0\n",
    "        for i in b_pwr:\n",
    "            data_full[ind] = list(i.values())\n",
    "            ind += 1\n",
    "\n",
    "        output = []\n",
    "        featureList = []\n",
    "        featureList.append('Label')\n",
    "        output.append(y[idx])\n",
    "        featureList.append('Pat')\n",
    "        output.append(pat)\n",
    "        data_full = data_full.astype(float)\n",
    "        data_band = preprocessing.scale(data_full, axis=1,with_std=True)\n",
    "        data_band = np.nan_to_num(data_band)\n",
    "\n",
    "        # for band, i in enumerate(data_raw):\n",
    "        #     featureList.append('M_RAW_%i'%(band))\n",
    "        #     output.append(np.average(i))\n",
    "\n",
    "        ### FEATURE 1 - CORRELATION COEF (count - 1)\n",
    "        h=np.corrcoef(data_raw)\n",
    "        h=np.nan_to_num(h)\n",
    "        ind = np.triu_indices(16, 1)\n",
    "        htri = h[ind]\n",
    "        featureList.append('coef_1_')  #('coef_%i'%(ii))\n",
    "        output.append(np.max(htri))\n",
    "        featureList.append('coef_2_')  #('coef_%i'%(ii))\n",
    "        output.append(np.partition(htri.flatten(), -2)[-2])\n",
    "        \n",
    "        ### FEATURE 2 - CORRELATION COEF BANDS (count - 1)\n",
    "        h=np.corrcoef(data_band)\n",
    "        h=np.nan_to_num(h)\n",
    "        ind = np.triu_indices(16, 1)\n",
    "        htri = h[ind]\n",
    "        featureList.append('coef_band_')  \n",
    "        output.append(np.max(htri))\n",
    "        featureList.append('coef_band2_')  #('coef_%i'%(ii))\n",
    "        output.append(np.partition(htri.flatten(), -2)[-2])\n",
    "        \n",
    "        ### FEATURE 3 - AR 1 and sum of 10 coef (count - 6 (1 per band))\n",
    "        for band, i in enumerate(data_band.T):\n",
    "            tsf_acf = tf.acf_features(i)\n",
    "            featureList.append('AR_%i'%(band))\n",
    "            output.append(tsf_acf['x_acf1'])\n",
    "            featureList.append('AR_10_%i'%(band))\n",
    "            output.append(tsf_acf['x_acf10'])\n",
    "            # featureList.append('AR_D1_10_%i'%(band))\n",
    "            # output.append(tsf_acf['diff1_acf10'])\n",
    "\n",
    "       \n",
    "        ### FEATURE 4 - MEAN BAND POWER \n",
    "        for band, i in enumerate(data_band.T):\n",
    "            featureList.append('MEAN_%i'%(band))\n",
    "            output.append(np.average(i))\n",
    "        \n",
    "        ### FEATURE 5 - STD BAND POWER \n",
    "        for band, i in enumerate(data_band.T):\n",
    "            featureList.append('STD_%i'%(band))\n",
    "            output.append(np.std(i))\n",
    "\n",
    "        ### FEATURE 6 - IQR BAND POWER \n",
    "        for band, i in enumerate(data_band.T):\n",
    "            featureList.append('IQR_%i'%(band))\n",
    "            output.append(iqr(i, interpolation = 'midpoint'))\n",
    "\n",
    "        ### FEATURE 7 - HJORTH\n",
    "        h_comp = eeg_data.hjorthComplexity()\n",
    "        featureList.append('HJORTH_COMP_MAX_')\n",
    "        output.append(np.max(h_comp))\n",
    "        featureList.append('HJORTH_COMP_AVG_')\n",
    "        output.append(np.average(h_comp))\n",
    "\n",
    "        h_mob = eeg_data.hjorthMobility()\n",
    "        featureList.append('HJORTH_MOB_MAX_')\n",
    "        output.append(np.max(h_mob))\n",
    "        featureList.append('HJORTH_MOB_AVG_')\n",
    "        output.append(np.average(h_mob))\n",
    "\n",
    "        # h_act = eeg_data.hjorthActivity()\n",
    "        # featureList.append('HJORTH_ACT_MAX_')\n",
    "        # output.append(np.max(h_act))\n",
    "        # featureList.append('HJORTH_ACT_AVG_')\n",
    "        # output.append(np.average(h_act))\n",
    "\n",
    "\n",
    "        ### FEATURE 8 - MEAN ABSOLUTE DEVIATION\n",
    "        for band, i in enumerate(data_band.T):\n",
    "            featureList.append('MAD_%i'%(band))\n",
    "            output.append(np.mean(np.absolute(i - np.mean(i))))\n",
    "        \n",
    "\n",
    "\n",
    "        mydata.append(pd.DataFrame({'Features':output},index=featureList).T)\n",
    "\n",
    "    trainSample = pd.concat(mydata,ignore_index=True)\n",
    "    trainSample.to_csv(outfile)"
   ]
  },
  {
   "cell_type": "code",
   "execution_count": 128,
   "metadata": {},
   "outputs": [
    {
     "name": "stderr",
     "output_type": "stream",
     "text": [
      "824it [39:40,  2.89s/it]\n"
     ]
    }
   ],
   "source": [
    "feature_extraction_csv(1,'train', X, y)\n",
    "feature_extraction_csv(1,'test', test_X, test_y)"
   ]
  },
  {
   "cell_type": "markdown",
   "metadata": {},
   "source": [
    "### Feature cleaning"
   ]
  },
  {
   "cell_type": "code",
   "execution_count": null,
   "metadata": {},
   "outputs": [],
   "source": [
    "pat = 1\n",
    "features_train = pd.read_csv('pat_'+str(pat)+'_feature_bands_train.csv')\n",
    "features_test = pd.read_csv('pat_'+str(pat)+'_feature_bands_test.csv')"
   ]
  },
  {
   "cell_type": "code",
   "execution_count": 7,
   "metadata": {},
   "outputs": [
    {
     "name": "stdout",
     "output_type": "stream",
     "text": [
      "(2001, 39)\n",
      "(297, 39)\n",
      "Number of features: 36\n"
     ]
    }
   ],
   "source": [
    "print(features_train.shape)\n",
    "print(features_test.shape)\n",
    "print(\"Number of features:\",features_test.shape[1]-3)"
   ]
  },
  {
   "cell_type": "code",
   "execution_count": 46,
   "metadata": {},
   "outputs": [],
   "source": [
    "features_train.dropna(thresh=features_train.shape[1]-3, inplace=True)\n",
    "features_train.replace([np.inf, -np.inf], np.nan, inplace=True)\n",
    "features_train.fillna(0, inplace=True)\n",
    "\n",
    "features_test.dropna(thresh=features_test.shape[1]-3, inplace=True)\n",
    "features_test.replace([np.inf, -np.inf], np.nan, inplace=True)\n",
    "features_test.fillna(0, inplace=True)"
   ]
  },
  {
   "cell_type": "code",
   "execution_count": 47,
   "metadata": {},
   "outputs": [],
   "source": [
    "label_train = features_train.Label.values\n",
    "label_test = features_test.Label.values\n",
    "x_train = features_train.drop(['Label', 'Pat', 'Unnamed: 0'], axis=1)\n",
    "x_test= features_test.drop(['Label', 'Pat', 'Unnamed: 0'], axis=1)"
   ]
  },
  {
   "cell_type": "markdown",
   "metadata": {},
   "source": [
    "## Model"
   ]
  },
  {
   "cell_type": "code",
   "execution_count": 21,
   "metadata": {},
   "outputs": [],
   "source": [
    "from sklearn.ensemble import ExtraTreesClassifier\n",
    "import xgboost as xgb\n",
    "from sklearn import metrics\n",
    "from sklearn.model_selection import GridSearchCV, RandomizedSearchCV, cross_val_score, RepeatedStratifiedKFold\n",
    "from sklearn.neighbors import KNeighborsClassifier\n",
    "from xgboost import plot_importance\n",
    "from sklearn.decomposition import PCA\n"
   ]
  },
  {
   "cell_type": "code",
   "execution_count": 151,
   "metadata": {},
   "outputs": [
    {
     "data": {
      "text/plain": [
       "(297, 5)"
      ]
     },
     "execution_count": 151,
     "metadata": {},
     "output_type": "execute_result"
    }
   ],
   "source": [
    "pca = PCA(0.95)\n",
    "principalComponents = pca.fit_transform(x_train)\n",
    "principalComponents_test = pca.transform(x_test)\n",
    "principalComponents_test.shape"
   ]
  },
  {
   "cell_type": "markdown",
   "metadata": {},
   "source": [
    "### XGB"
   ]
  },
  {
   "cell_type": "code",
   "execution_count": 79,
   "metadata": {},
   "outputs": [
    {
     "name": "stdout",
     "output_type": "stream",
     "text": [
      "AUC: 0.7027777777777778\n"
     ]
    }
   ],
   "source": [
    "params = {\n",
    "        \"objective\": \"binary:logistic\",\n",
    "        \"booster\" : \"gbtree\",\n",
    "        \"eval_metric\": \"auc\",\n",
    "        \"eta\": 0.001,\n",
    "        \"max_depth\": 6,\n",
    "        \"subsample\": 1,\n",
    "        \"gamma\": 0.1,\n",
    "        \"colsample_bynode\": .1,\n",
    "        \"reg_lambda\": .82,\n",
    "    }\n",
    "\n",
    "dtrain=xgb.DMatrix(x_train, label_train)\n",
    "model=xgb.train(params,dtrain,num_boost_round=500,verbose_eval=20)\n",
    "\n",
    "test=xgb.DMatrix(x_test)\n",
    "y_pred = model.predict(test)\n",
    "auc = metrics.roc_auc_score(label_test, y_pred)\n",
    "print (\"AUC: \" + str(auc)) \n"
   ]
  },
  {
   "cell_type": "markdown",
   "metadata": {},
   "source": [
    "AUC: 0.7013888888888888\n",
    "\n",
    "\"objective\": \"binary:logistic\",\n",
    "        \"booster\" : \"gbtree\",\n",
    "        \"eval_metric\": \"auc\",\n",
    "        \"eta\": 0.001,\n",
    "        \"max_depth\": 6,\n",
    "        \"subsample\": 1,\n",
    "        \"gamma\": 0.1,\n",
    "        \"colsample_bynode\": 0.1,\n",
    "        \"reg_lambda\": 0.8200000000000001,\n",
    "    }"
   ]
  },
  {
   "cell_type": "code",
   "execution_count": 74,
   "metadata": {},
   "outputs": [
    {
     "data": {
      "text/plain": [
       "<AxesSubplot:>"
      ]
     },
     "execution_count": 74,
     "metadata": {},
     "output_type": "execute_result"
    },
    {
     "data": {
      "image/png": "[encoded data removed]",
      "text/plain": [
       "<Figure size 1440x720 with 1 Axes>"
      ]
     },
     "metadata": {
      "needs_background": "light"
     },
     "output_type": "display_data"
    }
   ],
   "source": [
    "feature_important = model.get_score(importance_type='weight')\n",
    "keys = list(feature_important.keys())\n",
    "values = list(feature_important.values())\n",
    "\n",
    "data = pd.DataFrame(data=values, index=keys, columns=[\"score\"]).sort_values(by = \"score\", ascending=False)\n",
    "data.nlargest(20, columns=\"score\").plot(kind='barh', figsize = (20,10)) ## plot top 40 features"
   ]
  },
  {
   "cell_type": "code",
   "execution_count": 107,
   "metadata": {},
   "outputs": [
    {
     "name": "stdout",
     "output_type": "stream",
     "text": [
      "[21:01:47] WARNING: /private/var/folders/h6/y3hp258s05s0fmq2lhy3v1800000gn/T/pip-install-cdc2w_yl/xgboost/build/temp.macosx-10.9-x86_64-3.8/xgboost/src/learner.cc:1115: Starting in XGBoost 1.3.0, the default evaluation metric used with the objective 'binary:logistic' was changed from 'error' to 'logloss'. Explicitly set eval_metric if you'd like to restore the old behavior.\n",
      "AUC: 0.6368055555555556\n"
     ]
    }
   ],
   "source": [
    "mod = xgb.XGBRFClassifier(n_estimators=200, learning_rate=0.01, subsample=1, colsample_bynode=0, use_label_encoder=False)\n",
    "mod.fit(x_train, label_train)\n",
    "y_pred = mod.predict(x_test)\n",
    "\n",
    "auc = metrics.roc_auc_score(label_test, y_pred)\n",
    "print (\"AUC: \" + str(auc))"
   ]
  },
  {
   "cell_type": "markdown",
   "metadata": {},
   "source": [
    "### ExtraTree"
   ]
  },
  {
   "cell_type": "code",
   "execution_count": 108,
   "metadata": {},
   "outputs": [
    {
     "name": "stdout",
     "output_type": "stream",
     "text": [
      "AUC: 0.6527777777777778\n"
     ]
    }
   ],
   "source": [
    "clf = ExtraTreesClassifier(n_estimators=4000, max_features=25, random_state=0, max_depth=15, criterion='entropy')\n",
    "clf.fit(x_train,label_train)\n",
    "y_pred = clf.predict(x_test)\n",
    "\n",
    "auc = metrics.roc_auc_score(label_test, y_pred)\n",
    "print (\"AUC: \" + str(auc))"
   ]
  },
  {
   "cell_type": "markdown",
   "metadata": {},
   "source": [
    "0.6840277777777778  \n",
    "3000, 25, 11"
   ]
  },
  {
   "cell_type": "code",
   "execution_count": 124,
   "metadata": {},
   "outputs": [
    {
     "data": {
      "image/png": "[encoded data removed]",
      "text/plain": [
       "<Figure size 1440x576 with 1 Axes>"
      ]
     },
     "metadata": {
      "needs_background": "light"
     },
     "output_type": "display_data"
    }
   ],
   "source": [
    "feature_importance = clf.feature_importances_\n",
    "feature_importance_normalized = np.std([tree.feature_importances_ for tree in clf.estimators_], axis = 0)\n",
    "sorted_idx = (clf.feature_importances_.argsort())\n",
    "\n",
    "plt.bar(x_train.columns[sorted_idx[-15:]],clf.feature_importances_[sorted_idx[-15:]])\n",
    "plt.xlabel('Feature Labels')\n",
    "plt.ylabel('Feature Importances')\n",
    "plt.title('Comparison of different Feature Importances')\n",
    "plt.rcParams[\"figure.figsize\"] = (20,8)\n",
    "plt.show()"
   ]
  },
  {
   "cell_type": "markdown",
   "metadata": {},
   "source": [
    "### KNN"
   ]
  },
  {
   "cell_type": "code",
   "execution_count": 132,
   "metadata": {},
   "outputs": [
    {
     "name": "stdout",
     "output_type": "stream",
     "text": [
      "AUC: 0.5224014336917563\n"
     ]
    }
   ],
   "source": [
    "knn = KNeighborsClassifier(n_neighbors=21, metric='manhattan', weights='uniform', n_jobs=-1)\n",
    "knn.fit(x_train,label_train)\n",
    "y_pred = knn.predict(x_test)\n",
    "\n",
    "auc = metrics.roc_auc_score(label_test, y_pred)\n",
    "print (\"AUC: \" + str(auc))\n"
   ]
  },
  {
   "cell_type": "markdown",
   "metadata": {},
   "source": [
    "0.6895833333333333"
   ]
  },
  {
   "cell_type": "markdown",
   "metadata": {},
   "source": [
    "## Results"
   ]
  },
  {
   "cell_type": "markdown",
   "metadata": {},
   "source": [
    "\n",
    "| Feature | Feature count (per sample) | Final Model |\n",
    "| --- | --- | --- |\n",
    "| Coorelation Coefficient (raw data) | 2 (highest 2) | X |\n",
    "| Coorelation Coefficient (band power) | 2 (highest 2 | X |\n",
    "| AutoCorrelation First Coefficient | 6 (1 per band) | X |\n",
    "| AutoCorrelation Sum of 10 Coefficient | 6 (1 per band) | X |\n",
    "| AutoCorrelation Sum of 10 squared Coefficient | 6 (1 per band) | -- |\n",
    "| Mean band power | 6 (1 per band) | X |\n",
    "| IQR band power | 6 (1 per band) | X |\n",
    "| Standard Deviation band power | 6 (1 per band) | X |\n",
    "| Mean Absolute Deviation band power | 6 (1 per band) | X |\n",
    "| Hjorth Complexity (max and mean) | 2 | X |\n",
    "| Hjorth Mobility (max and mean) | 2 | X |\n",
    "| Hjorth Activation (max and mean) | 2 | -- |"
   ]
  }
 ],
 "metadata": {
  "interpreter": {
   "hash": "949777d72b0d2535278d3dc13498b2535136f6dfe0678499012e853ee9abcab1"
  },
  "kernelspec": {
   "display_name": "Python 3.8.1 64-bit",
   "language": "python",
   "name": "python3"
  },
  "language_info": {
   "codemirror_mode": {
    "name": "ipython",
    "version": 3
   },
   "file_extension": ".py",
   "mimetype": "text/x-python",
   "name": "python",
   "nbconvert_exporter": "python",
   "pygments_lexer": "ipython3",
   "version": "3.8.1"
  },
  "orig_nbformat": 4
 },
 "nbformat": 4,
 "nbformat_minor": 2
}
