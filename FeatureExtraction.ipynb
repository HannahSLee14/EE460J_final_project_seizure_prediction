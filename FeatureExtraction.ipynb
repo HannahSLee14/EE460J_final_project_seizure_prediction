{
 "cells": [
  {
   "cell_type": "code",
   "execution_count": 1,
   "metadata": {},
   "outputs": [],
   "source": [
    "import matplotlib.pyplot as plt\n",
    "import numpy as np\n",
    "import json\n",
    "import os\n",
    "from scipy.io import loadmat\n",
    "from pandas import DataFrame\n",
    "import glob\n",
    "import scipy.signal as spsig\n",
    "from sklearn import preprocessing\n",
    "import pandas as pd\n",
    "import csv\n",
    "from tqdm import tqdm"
   ]
  },
  {
   "cell_type": "markdown",
   "metadata": {},
   "source": [
    "### testing feature extraction using one file"
   ]
  },
  {
   "cell_type": "code",
   "execution_count": 2,
   "metadata": {},
   "outputs": [],
   "source": [
    "import eeglib"
   ]
  },
  {
   "cell_type": "code",
   "execution_count": 3,
   "metadata": {},
   "outputs": [
    {
     "data": {
      "text/plain": [
       "array([[ 19.369873 ,  -1.5776367, -41.794434 , ...,  62.809326 ,\n",
       "         46.628662 , -18.094238 ],\n",
       "       [ 23.331055 ,  -4.599121 , -36.759033 , ...,  70.79883  ,\n",
       "         48.575684 , -17.087158 ],\n",
       "       [ 25.345215 , -10.574463 , -34.744873 , ...,  84.831055 ,\n",
       "         52.604004 , -17.087158 ],\n",
       "       ...,\n",
       "       [-15.610107 , -36.624756 ,  21.182617 , ..., -25.07666  ,\n",
       "        -11.312988 ,  30.85083  ],\n",
       "       [-24.60669  , -28.63501  ,  19.168457 , ..., -28.0979   ,\n",
       "        -12.320068 ,  31.790771 ],\n",
       "       [-34.610596 , -26.62085  ,  19.168457 , ..., -31.119385 ,\n",
       "        -10.305908 ,  28.83667  ]], dtype=float32)"
      ]
     },
     "execution_count": 3,
     "metadata": {},
     "output_type": "execute_result"
    }
   ],
   "source": [
    "mat = loadmat('data/Pat1Train/Pat1Train_1_1.mat')\n",
    "data = mat['data']\n",
    "data"
   ]
  },
  {
   "cell_type": "code",
   "execution_count": 5,
   "metadata": {},
   "outputs": [
    {
     "data": {
      "text/plain": [
       "(240000, 16)"
      ]
     },
     "execution_count": 5,
     "metadata": {},
     "output_type": "execute_result"
    }
   ],
   "source": [
    "data.shape"
   ]
  },
  {
   "cell_type": "code",
   "execution_count": 4,
   "metadata": {},
   "outputs": [
    {
     "name": "stdout",
     "output_type": "stream",
     "text": [
      "(240000, 16)\n"
     ]
    },
    {
     "data": {
      "text/plain": [
       "array([[ 0.5056598 , -0.05194973, -1.3151745 , ...,  1.2495348 ,\n",
       "         1.0547212 , -0.56735015],\n",
       "       [ 0.60906696, -0.14766373, -1.1573074 , ...,  1.4091601 ,\n",
       "         1.0989348 , -0.53584874],\n",
       "       [ 0.66164684, -0.33694947, -1.0941607 , ...,  1.6895155 ,\n",
       "         1.1904111 , -0.53584874],\n",
       "       ...,\n",
       "       [-0.4074969 , -1.1621656 ,  0.65924656, ..., -0.5063733 ,\n",
       "        -0.26103473,  0.9636486 ],\n",
       "       [-0.64235383, -0.9090679 ,  0.59609973, ..., -0.5667358 ,\n",
       "        -0.2839038 ,  0.9930499 ],\n",
       "       [-0.903507  , -0.8452638 ,  0.59609973, ..., -0.6271032 ,\n",
       "        -0.23816566,  0.90064585]], dtype=float32)"
      ]
     },
     "execution_count": 4,
     "metadata": {},
     "output_type": "execute_result"
    }
   ],
   "source": [
    "# Perform z-score normalization - taken from eeglib helper function\n",
    "from scipy.stats import zscore\n",
    "data = zscore(data)\n",
    "print(data.shape)\n",
    "data"
   ]
  },
  {
   "cell_type": "code",
   "execution_count": 6,
   "metadata": {},
   "outputs": [],
   "source": [
    "eeg_data = eeglib.eeg.EEG(240000, 400, 16)"
   ]
  },
  {
   "cell_type": "code",
   "execution_count": 7,
   "metadata": {},
   "outputs": [
    {
     "data": {
      "text/plain": [
       "array([[ 0.5056598 ,  0.60906696,  0.66164684, ..., -0.4074969 ,\n",
       "        -0.64235383, -0.903507  ],\n",
       "       [-0.05194973, -0.14766373, -0.33694947, ..., -1.1621656 ,\n",
       "        -0.9090679 , -0.8452638 ],\n",
       "       [-1.3151745 , -1.1573074 , -1.0941607 , ...,  0.65924656,\n",
       "         0.59609973,  0.59609973],\n",
       "       ...,\n",
       "       [ 1.2495348 ,  1.4091601 ,  1.6895155 , ..., -0.5063733 ,\n",
       "        -0.5667358 , -0.6271032 ],\n",
       "       [ 1.0547212 ,  1.0989348 ,  1.1904111 , ..., -0.26103473,\n",
       "        -0.2839038 , -0.23816566],\n",
       "       [-0.56735015, -0.53584874, -0.53584874, ...,  0.9636486 ,\n",
       "         0.9930499 ,  0.90064585]], dtype=float32)"
      ]
     },
     "execution_count": 7,
     "metadata": {},
     "output_type": "execute_result"
    }
   ],
   "source": [
    "eeg_data.set(data)\n",
    "eeg_data.getChannel()"
   ]
  },
  {
   "cell_type": "code",
   "execution_count": 35,
   "metadata": {},
   "outputs": [],
   "source": [
    "# Perform independent component analysis - taken from eeglib helper function\n",
    "# from sklearn.decomposition import FastICA\n",
    "# ica = FastICA()\n",
    "# eeg_data = ica.fit_transform(np.transpose(data)).transpose()\n",
    "# print(eeg_data.shape)\n",
    "# eeg_data\n",
    "# eeg_data.names = [str(i) for i in range(eeg_data.nChannels)]"
   ]
  },
  {
   "cell_type": "code",
   "execution_count": 44,
   "metadata": {},
   "outputs": [
    {
     "name": "stdout",
     "output_type": "stream",
     "text": [
      "120\n"
     ]
    },
    {
     "data": {
      "text/plain": [
       "[0.2075937210294459,\n",
       " 0.025014084603957237,\n",
       " -0.021925934258798636,\n",
       " -0.03869724021221346,\n",
       " -0.08455400886142665,\n",
       " -0.29135599702171994,\n",
       " -0.14527300538784696,\n",
       " 0.1842536133268646,\n",
       " 0.06394971086252797,\n",
       " -0.19605134717638945,\n",
       " 0.0014547716909196085,\n",
       " -0.1325385888760158,\n",
       " -0.025772017496249047,\n",
       " -0.2088674500836511,\n",
       " -0.2713144691992969,\n",
       " 0.06321005873593635,\n",
       " 0.05407806951027934,\n",
       " -0.027136577204112645,\n",
       " -0.08553582590869296,\n",
       " -0.19399376823334977,\n",
       " -0.09236643025228637,\n",
       " 0.05471469083286263,\n",
       " -0.02392553855410736,\n",
       " -0.13181542248575448,\n",
       " -0.04871422112030129,\n",
       " -0.1363358825215131,\n",
       " -0.0662455295942018,\n",
       " -0.1778090240569538,\n",
       " -0.148408277498302,\n",
       " 0.1026770262661103,\n",
       " -0.04228109318765608,\n",
       " -0.048022513056169926,\n",
       " -0.09856521051969651,\n",
       " -0.10320593811761036,\n",
       " -0.1207164990212245,\n",
       " -0.09330529201137026,\n",
       " -0.03515662812388502,\n",
       " -0.15648815236607747,\n",
       " -0.0592284235786844,\n",
       " -0.11577572245480616,\n",
       " -0.08182837694272094,\n",
       " 0.007381414950422159,\n",
       " -0.008015711984088915,\n",
       " 0.030613750665298596,\n",
       " -0.14339550699032222,\n",
       " 0.15612756102557201,\n",
       " -0.11660087706451294,\n",
       " -0.12705308663332218,\n",
       " -0.011752460131348286,\n",
       " -0.14619850356904002,\n",
       " -0.33366248335672166,\n",
       " -0.17433306064517257,\n",
       " -0.21630946301884169,\n",
       " 0.10636021456345408,\n",
       " 0.5328829118298746,\n",
       " -0.036373352945178655,\n",
       " -0.023259879999302135,\n",
       " -0.08180407406456558,\n",
       " -0.08826630611445446,\n",
       " -0.1580812214055048,\n",
       " 0.02934557198585264,\n",
       " -0.15606005598105746,\n",
       " -0.1606884213930524,\n",
       " -0.2469893592580663,\n",
       " -0.21125084704051292,\n",
       " 0.1808564487014651,\n",
       " 0.14273725129562653,\n",
       " -0.12495061244934606,\n",
       " -0.12908696849745674,\n",
       " -0.1634614226208959,\n",
       " 0.05253979449389423,\n",
       " -0.17269374720005307,\n",
       " -0.23542630834391556,\n",
       " -0.29192668385244064,\n",
       " -0.17987903800285424,\n",
       " 0.40199233038250737,\n",
       " -0.37909023513636925,\n",
       " -0.3282121773503212,\n",
       " 0.06538023128433301,\n",
       " -0.15823592597361782,\n",
       " 0.0010947304139827577,\n",
       " -0.2549810465740409,\n",
       " 0.10484664942344925,\n",
       " 0.3046340621905854,\n",
       " -0.20421440814964317,\n",
       " -0.23775416252360795,\n",
       " -0.01432691220907244,\n",
       " 0.13943446128472653,\n",
       " -0.32298192710571444,\n",
       " -0.2658927959378093,\n",
       " -0.1982819916837324,\n",
       " 0.13651771468489482,\n",
       " 0.3405231554667623,\n",
       " -0.20119347784980113,\n",
       " 0.021421553574004857,\n",
       " -0.011897850694171527,\n",
       " 0.08950277733211617,\n",
       " -0.17237620585614105,\n",
       " -0.38714380445145763,\n",
       " -0.05086238602833204,\n",
       " -0.05123726503681187,\n",
       " -0.005005601055631168,\n",
       " 0.0014526045120825876,\n",
       " -0.15655274667998545,\n",
       " -0.32261638685543953,\n",
       " -0.2698293489793973,\n",
       " -0.10632197514272122,\n",
       " -0.19660191926929418,\n",
       " 0.15469468583241228,\n",
       " 0.1889698230433801,\n",
       " -0.08587619955755657,\n",
       " 0.01109169692846634,\n",
       " -0.30917353711913625,\n",
       " -0.012698474611119096,\n",
       " 0.10504467557450325,\n",
       " 0.15968903235665122,\n",
       " -0.07851883116106745,\n",
       " 0.1010390256791151,\n",
       " -0.2636617439355168,\n",
       " 0.26504575081453835]"
      ]
     },
     "execution_count": 44,
     "metadata": {},
     "output_type": "execute_result"
    }
   ],
   "source": [
    "cross_corr = eeg_data.CCC()\n",
    "print(len(cross_corr))\n",
    "cross_corr"
   ]
  },
  {
   "cell_type": "code",
   "execution_count": 46,
   "metadata": {},
   "outputs": [
    {
     "name": "stdout",
     "output_type": "stream",
     "text": [
      "(16, 240000)\n"
     ]
    },
    {
     "data": {
      "text/plain": [
       "array([[-5.72200166e-04   +0.j        , -1.31280180e+03 +153.03920553j,\n",
       "        -1.36268461e+03-1802.46715592j, ...,\n",
       "         1.03379214e+03+1582.94622156j, -1.36268461e+03+1802.46715592j,\n",
       "        -1.31280180e+03 -153.03920553j],\n",
       "       [-8.33345111e-05   +0.j        , -5.70830721e+02 -365.77771653j,\n",
       "        -7.76887036e+02 -310.75261103j, ...,\n",
       "        -3.36130680e+03-2069.498746j  , -7.76887036e+02 +310.75261103j,\n",
       "        -5.70830721e+02 +365.77771653j],\n",
       "       [-1.93009386e-03   +0.j        , -1.70603999e+03-2165.18468209j,\n",
       "        -2.18092861e+03 -584.09536729j, ...,\n",
       "         1.13361403e+03-1199.50896981j, -2.18092861e+03 +584.09536729j,\n",
       "        -1.70603999e+03+2165.18468209j],\n",
       "       ...,\n",
       "       [ 1.12876296e-06   +0.j        ,  2.40773153e+02 +154.75972788j,\n",
       "        -5.25778351e+01 -421.22043301j, ...,\n",
       "        -4.32772099e+02 +225.44442639j, -5.25778351e+01 +421.22043301j,\n",
       "         2.40773153e+02 -154.75972788j],\n",
       "       [-8.89197225e-04   +0.j        ,  2.32743860e+01 +304.06360941j,\n",
       "         1.35895641e+02  -45.72717174j, ...,\n",
       "        -1.81997606e+02  -22.63899724j,  1.35895641e+02  +45.72717174j,\n",
       "         2.32743860e+01 -304.06360941j],\n",
       "       [-6.35825563e-06   +0.j        , -5.56835212e+02 +470.94551257j,\n",
       "         1.79210518e+01 +259.83616219j, ...,\n",
       "         9.66165355e+02+1528.24582332j,  1.79210518e+01 -259.83616219j,\n",
       "        -5.56835212e+02 -470.94551257j]])"
      ]
     },
     "execution_count": 46,
     "metadata": {},
     "output_type": "execute_result"
    }
   ],
   "source": [
    "# May want to extract further features from these\n",
    "dft = eeg_data.DFT()\n",
    "print(dft.shape)\n",
    "dft"
   ]
  },
  {
   "cell_type": "code",
   "execution_count": 47,
   "metadata": {},
   "outputs": [
    {
     "name": "stdout",
     "output_type": "stream",
     "text": [
      "(16, 60001)\n"
     ]
    },
    {
     "data": {
      "text/plain": [
       "array([[6.30201772e-03, 6.42774701e-02, 1.21216483e-01, ...,\n",
       "        5.40983710e-05, 9.18860605e-05, 2.15717937e-05],\n",
       "       [1.01254195e-01, 1.19713247e-01, 2.10533068e-01, ...,\n",
       "        1.59437623e-05, 6.76702393e-06, 3.95068582e-06],\n",
       "       [1.24585303e-02, 1.07872628e-01, 3.66541743e-01, ...,\n",
       "        6.09537128e-05, 6.09651725e-05, 8.06941262e-06],\n",
       "       ...,\n",
       "       [8.69371230e-04, 3.75573500e-03, 3.30365566e-03, ...,\n",
       "        6.46317421e-05, 8.17141045e-05, 1.25632387e-05],\n",
       "       [9.89785069e-04, 1.03327155e-03, 2.22348329e-03, ...,\n",
       "        3.24287830e-05, 4.07124862e-05, 9.65727395e-06],\n",
       "       [4.36167009e-02, 5.03733866e-02, 7.85352066e-02, ...,\n",
       "        3.47829700e-06, 7.43668306e-06, 5.67745701e-06]], dtype=float32)"
      ]
     },
     "execution_count": 47,
     "metadata": {},
     "output_type": "execute_result"
    }
   ],
   "source": [
    "psd = eeg_data.PSD()\n",
    "print(psd.shape)\n",
    "psd"
   ]
  },
  {
   "cell_type": "code",
   "execution_count": 49,
   "metadata": {},
   "outputs": [
    {
     "name": "stdout",
     "output_type": "stream",
     "text": [
      "16\n"
     ]
    },
    {
     "data": {
      "text/plain": [
       "[{'delta': 3230.7743067885644,\n",
       "  'theta': 2901.5455136654373,\n",
       "  'alpha': 2227.2219208079036,\n",
       "  'beta': 8524.262259497744},\n",
       " {'delta': 3329.9140890338813,\n",
       "  'theta': 2451.29735777121,\n",
       "  'alpha': 1677.90700295107,\n",
       "  'beta': 6503.392037386898},\n",
       " {'delta': 3485.8018925333536,\n",
       "  'theta': 2759.0576202237344,\n",
       "  'alpha': 1559.1964969740643,\n",
       "  'beta': 5709.1237298196775},\n",
       " {'delta': 4751.180822727143,\n",
       "  'theta': 2247.576704107012,\n",
       "  'alpha': 1067.7594346344424,\n",
       "  'beta': 1914.17748008427},\n",
       " {'delta': 3978.4015567415136,\n",
       "  'theta': 2547.626055095141,\n",
       "  'alpha': 1687.04270113324,\n",
       "  'beta': 4519.934439402942},\n",
       " {'delta': 4585.281421542576,\n",
       "  'theta': 2984.715818590763,\n",
       "  'alpha': 1691.6948216100914,\n",
       "  'beta': 3273.8000407624027},\n",
       " {'delta': 5155.536431926746,\n",
       "  'theta': 2405.0225361689786,\n",
       "  'alpha': 1462.3729744468403,\n",
       "  'beta': 2775.969187247783},\n",
       " {'delta': 4868.176126841488,\n",
       "  'theta': 2908.340467679444,\n",
       "  'alpha': 1778.8006345727017,\n",
       "  'beta': 3295.8193010884215},\n",
       " {'delta': 3741.541603325256,\n",
       "  'theta': 3221.560346000543,\n",
       "  'alpha': 2449.548870235274,\n",
       "  'beta': 4116.613140362364},\n",
       " {'delta': 4172.882118551431,\n",
       "  'theta': 3269.429518644852,\n",
       "  'alpha': 2010.9972799955501,\n",
       "  'beta': 3597.918527836963},\n",
       " {'delta': 4371.931119011084,\n",
       "  'theta': 3138.6298569793526,\n",
       "  'alpha': 1985.1735929549677,\n",
       "  'beta': 3204.969603607536},\n",
       " {'delta': 4229.549167098844,\n",
       "  'theta': 2638.294739080019,\n",
       "  'alpha': 843.0649871055832,\n",
       "  'beta': 1633.9428509825239},\n",
       " {'delta': 4531.446633469775,\n",
       "  'theta': 2982.193816062531,\n",
       "  'alpha': 1887.1376550516927,\n",
       "  'beta': 2683.1654343545865},\n",
       " {'delta': 4297.024264821281,\n",
       "  'theta': 3309.1387687653023,\n",
       "  'alpha': 1929.7987984910878,\n",
       "  'beta': 3385.5764647449873},\n",
       " {'delta': 4319.164220790316,\n",
       "  'theta': 3221.9454215598744,\n",
       "  'alpha': 1403.1205603953345,\n",
       "  'beta': 2443.197087164434},\n",
       " {'delta': 4619.1838939150675,\n",
       "  'theta': 2856.0503109404895,\n",
       "  'alpha': 1202.5917059659869,\n",
       "  'beta': 2122.746082482981}]"
      ]
     },
     "execution_count": 49,
     "metadata": {},
     "output_type": "execute_result"
    }
   ],
   "source": [
    "b_pwr = eeg_data.bandPower()\n",
    "print(len(b_pwr))\n",
    "b_pwr"
   ]
  },
  {
   "cell_type": "code",
   "execution_count": 51,
   "metadata": {},
   "outputs": [
    {
     "name": "stdout",
     "output_type": "stream",
     "text": [
      "(16,)\n"
     ]
    },
    {
     "data": {
      "text/plain": [
       "array([1.00628385, 1.00736735, 1.00634725, 1.00711838, 1.00720861,\n",
       "       1.00773353, 1.00732619, 1.0082046 , 1.00556184, 1.00762961,\n",
       "       1.00709363, 1.00725356, 1.00704122, 1.00788659, 1.00751912,\n",
       "       1.00777452])"
      ]
     },
     "execution_count": 51,
     "metadata": {},
     "output_type": "execute_result"
    }
   ],
   "source": [
    "pfd = eeg_data.PFD()\n",
    "print(pfd.shape)\n",
    "pfd"
   ]
  },
  {
   "cell_type": "code",
   "execution_count": 52,
   "metadata": {},
   "outputs": [
    {
     "name": "stdout",
     "output_type": "stream",
     "text": [
      "(16,)\n"
     ]
    },
    {
     "data": {
      "text/plain": [
       "array([2.08974159, 2.09005442, 2.08523611, 2.08536825, 2.09797317,\n",
       "       2.09107063, 2.07873182, 2.08096211, 2.08113214, 2.08704601,\n",
       "       2.09005161, 2.08264903, 2.0759342 , 2.08104698, 2.07799274,\n",
       "       2.08577541])"
      ]
     },
     "execution_count": 52,
     "metadata": {},
     "output_type": "execute_result"
    }
   ],
   "source": [
    "# Takes nearly 7 min for one data set\n",
    "hfd = eeg_data.HFD()\n",
    "print(hfd.shape)\n",
    "hfd"
   ]
  },
  {
   "cell_type": "code",
   "execution_count": 53,
   "metadata": {},
   "outputs": [
    {
     "name": "stdout",
     "output_type": "stream",
     "text": [
      "(16,)\n"
     ]
    },
    {
     "data": {
      "text/plain": [
       "array([1.0000002 , 1.0000001 , 1.0000001 , 0.9999999 , 1.0000001 ,\n",
       "       1.0000001 , 0.9999999 , 0.99999994, 0.9999999 , 0.9999998 ,\n",
       "       1.0000002 , 1.0000001 , 1.        , 0.99999994, 0.9999998 ,\n",
       "       1.        ], dtype=float32)"
      ]
     },
     "execution_count": 53,
     "metadata": {},
     "output_type": "execute_result"
    }
   ],
   "source": [
    "h_act = eeg_data.hjorthActivity()\n",
    "print(h_act.shape)\n",
    "h_act"
   ]
  },
  {
   "cell_type": "code",
   "execution_count": 54,
   "metadata": {},
   "outputs": [
    {
     "name": "stdout",
     "output_type": "stream",
     "text": [
      "(16,)\n"
     ]
    },
    {
     "data": {
      "text/plain": [
       "array([0.22832082, 0.20242207, 0.16912092, 0.07659574, 0.20078827,\n",
       "       0.13147166, 0.09850346, 0.1563216 , 0.12837006, 0.14598298,\n",
       "       0.12875019, 0.0928133 , 0.13755189, 0.145386  , 0.11366633,\n",
       "       0.09203342], dtype=float32)"
      ]
     },
     "execution_count": 54,
     "metadata": {},
     "output_type": "execute_result"
    }
   ],
   "source": [
    "h_mob = eeg_data.hjorthMobility()\n",
    "print(h_mob.shape)\n",
    "h_mob"
   ]
  },
  {
   "cell_type": "code",
   "execution_count": 55,
   "metadata": {},
   "outputs": [
    {
     "name": "stdout",
     "output_type": "stream",
     "text": [
      "(16,)\n"
     ]
    },
    {
     "data": {
      "text/plain": [
       "array([2.234388 , 2.8354225, 3.21677  , 6.5886946, 2.6191268, 4.321631 ,\n",
       "       5.2256317, 4.490713 , 3.1314335, 4.269868 , 4.596317 , 6.8550835,\n",
       "       4.9878626, 4.415425 , 5.500521 , 5.839792 ], dtype=float32)"
      ]
     },
     "execution_count": 55,
     "metadata": {},
     "output_type": "execute_result"
    }
   ],
   "source": [
    "h_comp = eeg_data.hjorthComplexity()\n",
    "print(h_comp.shape)\n",
    "h_comp"
   ]
  },
  {
   "cell_type": "code",
   "execution_count": 9,
   "metadata": {},
   "outputs": [
    {
     "ename": "Error",
     "evalue": "Canceled future for execute_request message before replies were done",
     "output_type": "error",
     "traceback": [
      "Error: Canceled future for execute_request message before replies were done",
      "at t.KernelShellFutureHandler.dispose (c:\\Users\\hanna\\.vscode\\extensions\\ms-toolsai.jupyter-2022.3.1000901801\\out\\extension.js:2:1204175)",
      "at c:\\Users\\hanna\\.vscode\\extensions\\ms-toolsai.jupyter-2022.3.1000901801\\out\\extension.js:2:1223227",
      "at Map.forEach (<anonymous>)",
      "at v._clearKernelState (c:\\Users\\hanna\\.vscode\\extensions\\ms-toolsai.jupyter-2022.3.1000901801\\out\\extension.js:2:1223212)",
      "at v.dispose (c:\\Users\\hanna\\.vscode\\extensions\\ms-toolsai.jupyter-2022.3.1000901801\\out\\extension.js:2:1216694)",
      "at c:\\Users\\hanna\\.vscode\\extensions\\ms-toolsai.jupyter-2022.3.1000901801\\out\\extension.js:2:533674",
      "at t.swallowExceptions (c:\\Users\\hanna\\.vscode\\extensions\\ms-toolsai.jupyter-2022.3.1000901801\\out\\extension.js:2:913059)",
      "at dispose (c:\\Users\\hanna\\.vscode\\extensions\\ms-toolsai.jupyter-2022.3.1000901801\\out\\extension.js:2:533652)",
      "at t.RawSession.dispose (c:\\Users\\hanna\\.vscode\\extensions\\ms-toolsai.jupyter-2022.3.1000901801\\out\\extension.js:2:537330)",
      "at runMicrotasks (<anonymous>)",
      "at processTicksAndRejections (node:internal/process/task_queues:96:5)"
     ]
    }
   ],
   "source": [
    "# kills kernel\n",
    "# synch = eeg_data.synchronizationLikelihood()\n",
    "# print(synch.shape)\n",
    "# synch"
   ]
  },
  {
   "cell_type": "code",
   "execution_count": 8,
   "metadata": {},
   "outputs": [
    {
     "name": "stdout",
     "output_type": "stream",
     "text": [
      "()\n"
     ]
    },
    {
     "data": {
      "text/plain": [
       "0.8211801958860729"
      ]
     },
     "execution_count": 8,
     "metadata": {},
     "output_type": "execute_result"
    }
   ],
   "source": [
    "eng = eeg_data.engagementLevel()\n",
    "print(eng.shape)\n",
    "eng"
   ]
  },
  {
   "cell_type": "code",
   "execution_count": 9,
   "metadata": {},
   "outputs": [
    {
     "name": "stdout",
     "output_type": "stream",
     "text": [
      "(16,)\n"
     ]
    },
    {
     "data": {
      "text/plain": [
       "array([0.66478062, 0.69792145, 0.53560566, 0.28111452, 0.43470724,\n",
       "       0.44678765, 0.34707467, 0.4331923 , 0.44776052, 0.47347458,\n",
       "       0.36929238, 0.24718861, 0.38719925, 0.39869132, 0.3576908 ,\n",
       "       0.32588023])"
      ]
     },
     "execution_count": 9,
     "metadata": {},
     "output_type": "execute_result"
    }
   ],
   "source": [
    "# Takes 15 minutes for one set\n",
    "entr = eeg_data.sampEn()\n",
    "print(entr.shape)\n",
    "entr"
   ]
  },
  {
   "cell_type": "code",
   "execution_count": 10,
   "metadata": {},
   "outputs": [
    {
     "name": "stdout",
     "output_type": "stream",
     "text": [
      "(16,)\n"
     ]
    },
    {
     "data": {
      "text/plain": [
       "array([0.37845389, 0.36430469, 0.29467573, 0.18282257, 0.27315405,\n",
       "       0.24775996, 0.23063198, 0.24269603, 0.26012189, 0.26943057,\n",
       "       0.21938708, 0.220802  , 0.2532707 , 0.26391983, 0.23725976,\n",
       "       0.20583364])"
      ]
     },
     "execution_count": 10,
     "metadata": {},
     "output_type": "execute_result"
    }
   ],
   "source": [
    "# Takes 5 minutes for one set\n",
    "lzc = eeg_data.LZC()\n",
    "print(lzc.shape)\n",
    "lzc"
   ]
  },
  {
   "cell_type": "code",
   "execution_count": 11,
   "metadata": {},
   "outputs": [
    {
     "name": "stdout",
     "output_type": "stream",
     "text": [
      "(16,)\n"
     ]
    },
    {
     "data": {
      "text/plain": [
       "array([0.79179262, 0.90243462, 0.95069303, 0.94625632, 0.77714828,\n",
       "       0.78422883, 0.76549872, 0.7912176 , 0.77884951, 0.79690753,\n",
       "       0.8593628 , 0.75977751, 0.83875832, 0.69937404, 0.72577606,\n",
       "       0.88119722])"
      ]
     },
     "execution_count": 11,
     "metadata": {},
     "output_type": "execute_result"
    }
   ],
   "source": [
    "dfa = eeg_data.DFA()\n",
    "print(dfa.shape)\n",
    "dfa"
   ]
  },
  {
   "cell_type": "code",
   "execution_count": 13,
   "metadata": {},
   "outputs": [
    {
     "name": "stdout",
     "output_type": "stream",
     "text": [
      "120\n"
     ]
    },
    {
     "data": {
      "text/plain": [
       "[153951.09141501517,\n",
       " 173248.81788435695,\n",
       " 151860.83103856328,\n",
       " 177430.67191673082,\n",
       " 141573.42405462964,\n",
       " 185070.68611051887,\n",
       " 148450.5555232237,\n",
       " 176506.5515674064,\n",
       " 144680.48193194374,\n",
       " 138998.9140048524,\n",
       " 160160.96529287793,\n",
       " 149570.42054581334,\n",
       " 150369.87462279474,\n",
       " 166994.68194212357,\n",
       " 153650.5798765932,\n",
       " 131951.58342887246,\n",
       " 130901.20295178425,\n",
       " 138687.3929495269,\n",
       " 138562.3472244736,\n",
       " 139107.89751505095,\n",
       " 156169.51665221888,\n",
       " 147143.00875209004,\n",
       " 156213.1399517859,\n",
       " 148864.7457751506,\n",
       " 155729.01216937904,\n",
       " 162259.46454280894,\n",
       " 148856.41007554543,\n",
       " 143895.89681623538,\n",
       " 148811.9416499702,\n",
       " 135376.86079495627,\n",
       " 135893.4883983928,\n",
       " 146631.38863933051,\n",
       " 140255.04442193318,\n",
       " 144500.2660165123,\n",
       " 146002.82784556953,\n",
       " 140343.61558617215,\n",
       " 145352.12428826746,\n",
       " 152062.66376186535,\n",
       " 143775.36055799056,\n",
       " 152757.06230457558,\n",
       " 156973.38838768733,\n",
       " 132647.8534833067,\n",
       " 123548.36105431837,\n",
       " 126872.02738647675,\n",
       " 130656.08566381293,\n",
       " 132848.97471695242,\n",
       " 143774.98454634426,\n",
       " 127478.98459065228,\n",
       " 134577.74920805416,\n",
       " 132339.69038086536,\n",
       " 120169.2470567231,\n",
       " 137287.57259532006,\n",
       " 125680.85577591741,\n",
       " 132012.58574756014,\n",
       " 121716.77871665871,\n",
       " 106616.23844769131,\n",
       " 107009.2059602351,\n",
       " 126617.36736478563,\n",
       " 114308.59411994647,\n",
       " 123836.74794952525,\n",
       " 127761.81043615518,\n",
       " 126837.35978833586,\n",
       " 116833.28103053337,\n",
       " 118254.91466927272,\n",
       " 123794.80486807862,\n",
       " 118213.83147817757,\n",
       " 118164.72584056528,\n",
       " 122620.1073647323,\n",
       " 111226.90101042902,\n",
       " 131425.47735544015,\n",
       " 110974.52243512264,\n",
       " 121866.36279255943,\n",
       " 116713.64989283541,\n",
       " 131547.2892912659,\n",
       " 116022.64409735275,\n",
       " 102221.4300770117,\n",
       " 145348.17990865395,\n",
       " 120979.27374252398,\n",
       " 130716.82780169696,\n",
       " 115150.10484196292,\n",
       " 125607.58118134877,\n",
       " 111089.44861052372,\n",
       " 104369.23380992305,\n",
       " 127642.07165649027,\n",
       " 123342.91640886595,\n",
       " 121161.48745892057,\n",
       " 122287.66143086366,\n",
       " 139545.7928292947,\n",
       " 123138.40713140788,\n",
       " 122851.71144455113,\n",
       " 118591.20949707273,\n",
       " 135063.72479940404,\n",
       " 135620.94910608418,\n",
       " 149752.73006505542,\n",
       " 137015.8694835361,\n",
       " 127384.3954227888,\n",
       " 132535.62773934333,\n",
       " 137534.19585216022,\n",
       " 127021.4995417794,\n",
       " 135877.85616157297,\n",
       " 141938.79761615396,\n",
       " 124265.66742989048,\n",
       " 118509.57845520182,\n",
       " 129221.51473968918,\n",
       " 134014.54811291496,\n",
       " 144869.0529799685,\n",
       " 124797.5406749472,\n",
       " 141489.51676863898,\n",
       " 157027.1737327522,\n",
       " 127005.19062685594,\n",
       " 142958.81367029715,\n",
       " 129454.18731311476,\n",
       " 120176.60887571773,\n",
       " 120604.01762921934,\n",
       " 135170.0665259855,\n",
       " 120503.59460606286,\n",
       " 122068.35072807496,\n",
       " 116641.55283709196,\n",
       " 131637.87094616308,\n",
       " 121053.77469808812]"
      ]
     },
     "execution_count": 13,
     "metadata": {},
     "output_type": "execute_result"
    }
   ],
   "source": [
    "# Took ~50 minutes\n",
    "dtw = eeg_data.DTW()\n",
    "print(len(dtw))\n",
    "dtw"
   ]
  },
  {
   "cell_type": "markdown",
   "metadata": {},
   "source": [
    "### preprocessing data"
   ]
  },
  {
   "cell_type": "code",
   "execution_count": 2,
   "metadata": {},
   "outputs": [],
   "source": [
    "read_dir = 'data/Pat1Train'\n",
    "filenames = sorted(os.listdir(read_dir))\n",
    "train_filenames = []\n",
    "for filename in filenames:\n",
    "    train_filenames.append(filename)\n",
    "n = len(train_filenames)\n",
    "image = loadmat(read_dir + '/' + train_filenames[0], squeeze_me=True)\n",
    "X = np.zeros(((n,) + image['data'].shape), dtype='float32')\n",
    "y = np.zeros(n, dtype='int8')\n",
    "\n",
    "filename_to_idx = {}\n",
    "for i, filename in enumerate(train_filenames):\n",
    "    data= loadmat(read_dir + '/' + filename, squeeze_me=True)\n",
    "    X[i] = data['data']\n",
    "    y[i] = 1 if filename.endswith('_1.mat') else 0\n",
    "    filename_to_idx['Pat1' + '/' + filename] = i"
   ]
  },
  {
   "cell_type": "code",
   "execution_count": 3,
   "metadata": {},
   "outputs": [
    {
     "name": "stdout",
     "output_type": "stream",
     "text": [
      "(826, 240000, 16)\n",
      "(826,)\n"
     ]
    },
    {
     "data": {
      "text/plain": [
       "{0: 570, 1: 256}"
      ]
     },
     "execution_count": 3,
     "metadata": {},
     "output_type": "execute_result"
    }
   ],
   "source": [
    "print(X.shape)\n",
    "print(y.shape)\n",
    "unique, counts = np.unique(y, return_counts=True)\n",
    "dict(zip(unique, counts))"
   ]
  },
  {
   "cell_type": "code",
   "execution_count": null,
   "metadata": {},
   "outputs": [],
   "source": [
    "pat = 1\n",
    "outfile = 'pat_'+str(pat)+'_feature_train.csv'\n",
    "\n",
    "label = y\n",
    "\n",
    "mydata = []\n",
    "bands=[0.1,4,8,12,30,70,180]\n",
    "rate = 400.\n",
    "for i, x in tqdm(enumerate(X)):\n",
    "        data_full = x.T\n",
    "        output = []\n",
    "        featureList = []\n",
    "        featureList.append('Label')\n",
    "        output.append(y[i])\n",
    "        featureList.append('Pat')\n",
    "        output.append(pat)\n",
    "        data_full = data_full.astype(float)\n",
    "        data = preprocessing.scale(data_full, axis=1,with_std=True)\n",
    "\n",
    "        # get correlation Coef. this will be 16x16\n",
    "        h=np.corrcoef(data)\n",
    "        h=np.nan_to_num(h)\n",
    "        # only want upper triangle\n",
    "        ind = np.triu_indices(16, 1)\n",
    "        htri = h[ind]\n",
    "        for ii in range(np.size(htri)):\n",
    "                featureList.append('coef%i'%(ii))\n",
    "                output.append(htri[ii])\n",
    "\n",
    "\n",
    "        # for j in range(19):\n",
    "        #         data = data_full[:,j*int(rate*60/2):(j)*int(rate*60/2) + int(rate)*60]\n",
    "        #         data = preprocessing.scale(data, axis=1,with_std=True)\n",
    "                \n",
    "        #         for k in range(16):\n",
    "        #                 hold = data[k,:]\n",
    "        #                 f,psd = spsig.welch(hold, fs=400, nperseg=2000)\n",
    "        #                 psd = np.nan_to_num(psd)\n",
    "        #                 psd /= psd.sum()\n",
    "        #                 for c in range(1,len(bands)):\n",
    "        #                         featureList.append('BandEnergy_%i_%i_%i'%(j,k,c))\n",
    "        #                         output.append(psd[(f>bands[c-1])&(f<bands[c])].sum())\n",
    "\n",
    "\n",
    "        mydata.append(pd.DataFrame({'Features':output},index=featureList).T)\n",
    "\n",
    "trainSample = pd.concat(mydata,ignore_index=True)\n",
    "trainSample.to_csv(outfile)"
   ]
  }
 ],
 "metadata": {
  "interpreter": {
   "hash": "8944ac20941febd3898b0b9a08c0e7cafc7c4835a26d6ed6b5e365f07f1b2728"
  },
  "kernelspec": {
   "display_name": "Python 3.8.8 ('base')",
   "language": "python",
   "name": "python3"
  },
  "language_info": {
   "codemirror_mode": {
    "name": "ipython",
    "version": 3
   },
   "file_extension": ".py",
   "mimetype": "text/x-python",
   "name": "python",
   "nbconvert_exporter": "python",
   "pygments_lexer": "ipython3",
   "version": "3.8.8"
  },
  "orig_nbformat": 4
 },
 "nbformat": 4,
 "nbformat_minor": 2
}
